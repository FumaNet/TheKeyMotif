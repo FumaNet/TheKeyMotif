{
  "nbformat": 4,
  "nbformat_minor": 0,
  "metadata": {
    "colab": {
      "provenance": []
    },
    "kernelspec": {
      "name": "python3",
      "display_name": "Python 3"
    },
    "language_info": {
      "name": "python"
    }
  },
  "cells": [
    {
      "cell_type": "code",
      "execution_count": 1,
      "metadata": {
        "id": "SdQPYTEYgquD"
      },
      "outputs": [],
      "source": [
        "from sklearn.metrics import roc_auc_score, auc, precision_recall_curve, roc_curve\n",
        "import matplotlib.pyplot as plt\n",
        "import pandas as pd\n",
        "import pickle"
      ]
    },
    {
      "cell_type": "markdown",
      "source": [
        "## Generating Multithreshold ROC graphs"
      ],
      "metadata": {
        "id": "lP7iaIszhA1_"
      }
    },
    {
      "cell_type": "code",
      "source": [
        "with open(\"../Results/0_AUCs_original_replica.pkl\", 'rb') as f:\n",
        "    loaded_data = pickle.load(f)\n",
        "\n",
        "# .pkl paths:\n",
        "# \"0_AUCs_original_replica.pkl\"                   - Replicating the original results after splitting the individual proteins, then re-averaging them\n",
        "# \"1_AUCs_max_max.pkl\"                            - Maximum scores among protein-protein pairs\n",
        "# \"2_AUCs_max_max_original_sero.pkl\"              - Replicating the original results, but using One-Hot Encoded serotypes instead of bacterial proteins\n",
        "# \"3_AUCs_max_max_sero.pkl\"                       - Combining the previous two approaches: individual viral RBPs and One-Hot Encoded serotypes for bacterial proteins\n",
        "# \"4_AUCs_motif_focus_increased.pkl\"              - Motif-containing RBPs and viruses that only express one RBP as positives\n",
        "# \"5_AUCs_motif_focus.pkl\"                        - Motif-containing RBPs only as positives\n",
        "\n",
        "threshold = [1, 0.995, 0.99, 0.95, 0.90, 0.85, 0.80, 0.75]\n",
        "\n",
        "# Create a single figure for all ROC curves\n",
        "fig, ax = plt.subplots(figsize=(10, 8))\n",
        "\n",
        "# Loop through all data points and plot them on the same figure\n",
        "for num, el in enumerate(loaded_data):\n",
        "    thresh = threshold[num]\n",
        "    labels = el[0]\n",
        "    scoreslr = el[1]\n",
        "\n",
        "    # predsss.append((label_max, scores_max, rauclr))\n",
        "\n",
        "    fpr, tpr, thrs = roc_curve(labels, scoreslr)\n",
        "    rauclr = round(auc(fpr, tpr), 3)\n",
        "    print(\"THRESHOLD: \", thresh)\n",
        "    print(\"AUC: \", rauclr)\n",
        "    print(\"##############################################\")\n",
        "\n",
        "    # Plot each ROC curve on the same axes\n",
        "    ax.plot(fpr, tpr, linewidth=2.5, label=f'Threshold: {thresh} (AUC = {rauclr})')\n",
        "\n",
        "# Final plot adjustments\n",
        "ax.set_xlabel('False positive rate', size=24)\n",
        "ax.set_ylabel('True positive rate', size=24)\n",
        "ax.legend(loc=4, prop={'size': 16})\n",
        "ax.grid(True, linestyle=':')\n",
        "ax.yaxis.set_tick_params(labelsize=14)\n",
        "ax.xaxis.set_tick_params(labelsize=14)\n",
        "ax.set_title('ROC Curves for Different Thresholds\\n(Full Embeddings)', fontsize=26)\n",
        "\n",
        "plt.show()"
      ],
      "metadata": {
        "id": "BqCGPrGPhAcX"
      },
      "execution_count": null,
      "outputs": []
    },
    {
      "cell_type": "markdown",
      "source": [
        "## Adding Precision-Recall Curves for the Highest Threshold"
      ],
      "metadata": {
        "id": "Kc5fINVrhGrW"
      }
    },
    {
      "cell_type": "code",
      "source": [
        "from sklearn.metrics import roc_auc_score, auc, precision_recall_curve, roc_curve\n",
        "import matplotlib.pyplot as plt\n",
        "import pandas as pd\n",
        "import pickle\n",
        "\n",
        "with open(\"../Results/0_original_replica.pkl\", 'rb') as f:\n",
        "    loaded_data = pickle.load(f)\n",
        "\n",
        "# .pkl paths:\n",
        "# \"0_AUCs_original_replica.pkl\"                   - Replicating the original results after splitting the individual proteins, then re-averaging them\n",
        "# \"1_AUCs_max_max.pkl\"                            - Maximum scores among protein-protein pairs\n",
        "# \"2_AUCs_max_max_original_sero.pkl\"              - Replicating the original results, but using One-Hot Encoded serotypes instead of bacterial proteins\n",
        "# \"3_AUCs_max_max_sero.pkl\"                       - Combining the previous two approaches: individual viral RBPs and One-Hot Encoded serotypes for bacterial proteins\n",
        "# \"4_AUCs_motif_focus_increased.pkl\"              - Motif-containing RBPs and viruses that only express one RBP as positives\n",
        "# \"5_AUCs_motif_focus.pkl\"                        - Motif-containing RBPs only as positives\n",
        "\n",
        "threshold = [1, 0.995, 0.99, 0.95, 0.90, 0.85, 0.80, 0.75]\n",
        "\n",
        "\n",
        "# Loop through all data points and plot them on the same figure\n",
        "for num, el in enumerate(loaded_data):\n",
        "    thresh = threshold[num]\n",
        "    labels = el[0]\n",
        "    scores = el[1]\n",
        "\n",
        "    # Compute ROC curve and ROC AUC\n",
        "    fpr, tpr, _ = roc_curve(labels, scores)\n",
        "    roc_auc = auc(fpr, tpr)\n",
        "\n",
        "    # Compute Precision-Recall curve and AUC-PR\n",
        "    precision, recall, _ = precision_recall_curve(labels, scores)\n",
        "    pr_auc = auc(recall, precision)\n",
        "\n",
        "    break\n",
        "\n",
        "# Plot both curves\n",
        "fig, (ax1, ax2) = plt.subplots(1, 2, figsize=(14, 6))\n",
        "\n",
        "# ROC curve plot\n",
        "ax1.plot(fpr, tpr, label=f\"AUC-ROC = {roc_auc:.3f}\")\n",
        "ax1.set_title(\"ROC Curve\")\n",
        "ax1.set_xlabel(\"False Positive Rate\")\n",
        "ax1.set_ylabel(\"True Positive Rate\")\n",
        "ax1.grid(True)\n",
        "ax1.legend()\n",
        "\n",
        "# PR curve plot\n",
        "ax2.plot(recall, precision, label=f\"AUC-PR = {pr_auc:.3f}\", color=\"orange\")\n",
        "ax2.set_title(\"Precision-Recall Curve\")\n",
        "ax2.set_xlabel(\"Recall\")\n",
        "ax2.set_ylabel(\"Precision\")\n",
        "ax2.grid(True)\n",
        "ax2.legend()\n",
        "\n",
        "plt.tight_layout()\n",
        "plt.show()"
      ],
      "metadata": {
        "id": "Lpp5DPvRi01r"
      },
      "execution_count": null,
      "outputs": []
    }
  ]
}